{
 "cells": [
  {
   "cell_type": "code",
   "execution_count": 241,
   "metadata": {},
   "outputs": [],
   "source": [
    "# Dependencies\n",
    "import pandas as pd\n",
    "import numpy as np\n",
    "from datetime import datetime"
   ]
  },
  {
   "cell_type": "markdown",
   "metadata": {},
   "source": [
    "# Participant Data"
   ]
  },
  {
   "cell_type": "markdown",
   "metadata": {},
   "source": [
    "### Extract"
   ]
  },
  {
   "cell_type": "code",
   "execution_count": 242,
   "metadata": {},
   "outputs": [
    {
     "data": {
      "text/html": [
       "<div>\n",
       "<style scoped>\n",
       "    .dataframe tbody tr th:only-of-type {\n",
       "        vertical-align: middle;\n",
       "    }\n",
       "\n",
       "    .dataframe tbody tr th {\n",
       "        vertical-align: top;\n",
       "    }\n",
       "\n",
       "    .dataframe thead th {\n",
       "        text-align: right;\n",
       "    }\n",
       "</style>\n",
       "<table border=\"1\" class=\"dataframe\">\n",
       "  <thead>\n",
       "    <tr style=\"text-align: right;\">\n",
       "      <th></th>\n",
       "      <th>StateCd</th>\n",
       "      <th>SrvcDstrctNm</th>\n",
       "      <th>DsbltyGrpNm</th>\n",
       "      <th>AgeBnd</th>\n",
       "      <th>PrtcpntCnt</th>\n",
       "      <th>AvgAnlsdCmtdSuppBdgt</th>\n",
       "      <th>SuppCatg</th>\n",
       "    </tr>\n",
       "  </thead>\n",
       "  <tbody>\n",
       "    <tr>\n",
       "      <th>0</th>\n",
       "      <td>WA</td>\n",
       "      <td>ALL</td>\n",
       "      <td>ABI</td>\n",
       "      <td>0 to 6</td>\n",
       "      <td>13</td>\n",
       "      <td>105,000.00</td>\n",
       "      <td>ALL</td>\n",
       "    </tr>\n",
       "    <tr>\n",
       "      <th>1</th>\n",
       "      <td>WA</td>\n",
       "      <td>ALL</td>\n",
       "      <td>ABI</td>\n",
       "      <td>0 to 6</td>\n",
       "      <td>13</td>\n",
       "      <td>40,000.00</td>\n",
       "      <td>Capacity Building</td>\n",
       "    </tr>\n",
       "    <tr>\n",
       "      <th>2</th>\n",
       "      <td>WA</td>\n",
       "      <td>ALL</td>\n",
       "      <td>ABI</td>\n",
       "      <td>0 to 6</td>\n",
       "      <td>11</td>\n",
       "      <td>0</td>\n",
       "      <td>Capital</td>\n",
       "    </tr>\n",
       "    <tr>\n",
       "      <th>3</th>\n",
       "      <td>WA</td>\n",
       "      <td>ALL</td>\n",
       "      <td>ABI</td>\n",
       "      <td>0 to 6</td>\n",
       "      <td>11</td>\n",
       "      <td>0</td>\n",
       "      <td>Core</td>\n",
       "    </tr>\n",
       "    <tr>\n",
       "      <th>4</th>\n",
       "      <td>WA</td>\n",
       "      <td>ALL</td>\n",
       "      <td>ABI</td>\n",
       "      <td>15 to 18</td>\n",
       "      <td>43</td>\n",
       "      <td>91,000.00</td>\n",
       "      <td>ALL</td>\n",
       "    </tr>\n",
       "  </tbody>\n",
       "</table>\n",
       "</div>"
      ],
      "text/plain": [
       "  StateCd SrvcDstrctNm DsbltyGrpNm    AgeBnd  PrtcpntCnt AvgAnlsdCmtdSuppBdgt  \\\n",
       "0      WA          ALL         ABI    0 to 6          13           105,000.00   \n",
       "1      WA          ALL         ABI    0 to 6          13            40,000.00   \n",
       "2      WA          ALL         ABI    0 to 6          11                    0   \n",
       "3      WA          ALL         ABI    0 to 6          11                    0   \n",
       "4      WA          ALL         ABI  15 to 18          43            91,000.00   \n",
       "\n",
       "            SuppCatg  \n",
       "0                ALL  \n",
       "1  Capacity Building  \n",
       "2            Capital  \n",
       "3               Core  \n",
       "4                ALL  "
      ]
     },
     "execution_count": 242,
     "metadata": {},
     "output_type": "execute_result"
    }
   ],
   "source": [
    "# File paths to datasets\n",
    "## Current ##\n",
    "# Current dataset obtained at https://data.ndis.gov.au/explore-data, filter States/Territories = WA\n",
    "# File name contains today's date\n",
    "today = datetime.today().strftime('%Y-%m-%d')\n",
    "filename = f\"data-export-participants-{today}.csv\"\n",
    "part = f\"resources/{filename}\"\n",
    "wa_curr_part_df = pd.read_csv(part)\n",
    "wa_curr_part_df.head()"
   ]
  },
  {
   "cell_type": "code",
   "execution_count": 243,
   "metadata": {},
   "outputs": [],
   "source": [
    "## Longitudinal data\n",
    "# Longitudinal data obtained at https://data.ndis.gov.au/data-downloads, under subheading 'Participant numbers and average plan budgets (September 2020 to June 2022)'\n",
    "# !!! Note if this process is used beyond December 2022, additional longitudinal datasets will need to be added here manually\n",
    "# eg. sep22, dec22, etc\n",
    "\n",
    "jun22_df = pd.read_csv(\"resources/PB Participant numbers and plan budgets data JUN22_0.csv\")\n",
    "mar22_df = pd.read_csv(\"resources/PB Participant Numbers and Plan Budgets_MAR22_CSV.csv\")\n",
    "dec21_df = pd.read_csv(\"resources/PB Participant numbers and Plan Budgets data_DEC21_CSV.csv\")\n",
    "sep21_df = pd.read_csv(\"resources/PB Participant numbers and plan budgets data Sep2021 CSV.csv\")\n",
    "jun21_df = pd.read_csv(\"resources/PB Active Plan Participant Jun2021.csv\")\n",
    "mar21_df = pd.read_csv(\"resources/PB Active Plan Participant Mar 2021.csv\")\n",
    "dec20_df = pd.read_csv(\"resources/PB Active Plan Participant Dec 2020.csv\")\n",
    "sep20_df = pd.read_csv(\"resources/PB Active Plan Participant Sep 2020 CSV.csv\")"
   ]
  },
  {
   "cell_type": "markdown",
   "metadata": {},
   "source": [
    "### Transform"
   ]
  },
  {
   "cell_type": "code",
   "execution_count": 244,
   "metadata": {},
   "outputs": [],
   "source": [
    "## Longitudinal data\n",
    "# Make Date column format consistent\n",
    "\n",
    "mar22_df.RprtDt = mar22_df.RprtDt.replace('31-Mar-22','31MAR2022')\n",
    "dec21_df.RprtDt = dec21_df.RprtDt.replace('31-Dec-21','31DEC2021')\n",
    "sep21_df.RprtDt = sep21_df.RprtDt.replace('30-Sep-21','30SEP2021')"
   ]
  },
  {
   "cell_type": "code",
   "execution_count": 245,
   "metadata": {},
   "outputs": [],
   "source": [
    "# Append Longitudinal dataframes to a single dataframe\n",
    "long_list = [jun22_df,mar22_df,dec21_df,sep21_df,jun21_df,mar21_df,dec20_df,sep20_df]\n",
    "\n",
    "long_df = jun22_df\n",
    "for i in range(1,8):\n",
    "    long_df = long_df.append(long_list[i])"
   ]
  },
  {
   "cell_type": "code",
   "execution_count": 246,
   "metadata": {},
   "outputs": [
    {
     "data": {
      "text/html": [
       "<div>\n",
       "<style scoped>\n",
       "    .dataframe tbody tr th:only-of-type {\n",
       "        vertical-align: middle;\n",
       "    }\n",
       "\n",
       "    .dataframe tbody tr th {\n",
       "        vertical-align: top;\n",
       "    }\n",
       "\n",
       "    .dataframe thead th {\n",
       "        text-align: right;\n",
       "    }\n",
       "</style>\n",
       "<table border=\"1\" class=\"dataframe\">\n",
       "  <thead>\n",
       "    <tr style=\"text-align: right;\">\n",
       "      <th></th>\n",
       "      <th>RprtDt</th>\n",
       "      <th>StateCd</th>\n",
       "      <th>SrvcDstrctNm</th>\n",
       "      <th>DsbltyGrpNm</th>\n",
       "      <th>AgeBnd</th>\n",
       "      <th>SuppClass</th>\n",
       "      <th>AvgAnlsdCmtdSuppBdgt</th>\n",
       "      <th>PrtcpntCnt</th>\n",
       "    </tr>\n",
       "  </thead>\n",
       "  <tbody>\n",
       "    <tr>\n",
       "      <th>82761</th>\n",
       "      <td>30JUN2022</td>\n",
       "      <td>WA</td>\n",
       "      <td>ALL</td>\n",
       "      <td>ABI</td>\n",
       "      <td>0 to 6</td>\n",
       "      <td>ALL</td>\n",
       "      <td>105,000.00</td>\n",
       "      <td>13</td>\n",
       "    </tr>\n",
       "    <tr>\n",
       "      <th>82762</th>\n",
       "      <td>30JUN2022</td>\n",
       "      <td>WA</td>\n",
       "      <td>ALL</td>\n",
       "      <td>ABI</td>\n",
       "      <td>0 to 6</td>\n",
       "      <td>CapacityBuilding</td>\n",
       "      <td>40,000.00</td>\n",
       "      <td>13</td>\n",
       "    </tr>\n",
       "    <tr>\n",
       "      <th>82763</th>\n",
       "      <td>30JUN2022</td>\n",
       "      <td>WA</td>\n",
       "      <td>ALL</td>\n",
       "      <td>ABI</td>\n",
       "      <td>0 to 6</td>\n",
       "      <td>Capital</td>\n",
       "      <td>NaN</td>\n",
       "      <td>&lt;11</td>\n",
       "    </tr>\n",
       "    <tr>\n",
       "      <th>82764</th>\n",
       "      <td>30JUN2022</td>\n",
       "      <td>WA</td>\n",
       "      <td>ALL</td>\n",
       "      <td>ABI</td>\n",
       "      <td>0 to 6</td>\n",
       "      <td>Core</td>\n",
       "      <td>53,000.00</td>\n",
       "      <td>11</td>\n",
       "    </tr>\n",
       "    <tr>\n",
       "      <th>82765</th>\n",
       "      <td>30JUN2022</td>\n",
       "      <td>WA</td>\n",
       "      <td>ALL</td>\n",
       "      <td>ABI</td>\n",
       "      <td>15 to 18</td>\n",
       "      <td>ALL</td>\n",
       "      <td>91,000.00</td>\n",
       "      <td>43</td>\n",
       "    </tr>\n",
       "    <tr>\n",
       "      <th>...</th>\n",
       "      <td>...</td>\n",
       "      <td>...</td>\n",
       "      <td>...</td>\n",
       "      <td>...</td>\n",
       "      <td>...</td>\n",
       "      <td>...</td>\n",
       "      <td>...</td>\n",
       "      <td>...</td>\n",
       "    </tr>\n",
       "    <tr>\n",
       "      <th>88476</th>\n",
       "      <td>30SEP2020</td>\n",
       "      <td>WA</td>\n",
       "      <td>Wheat Belt</td>\n",
       "      <td>Visual Impairment</td>\n",
       "      <td>65+</td>\n",
       "      <td>Core</td>\n",
       "      <td>NaN</td>\n",
       "      <td>11</td>\n",
       "    </tr>\n",
       "    <tr>\n",
       "      <th>88477</th>\n",
       "      <td>30SEP2020</td>\n",
       "      <td>WA</td>\n",
       "      <td>Wheat Belt</td>\n",
       "      <td>Visual Impairment</td>\n",
       "      <td>ALL</td>\n",
       "      <td>ALL</td>\n",
       "      <td>NaN</td>\n",
       "      <td>11</td>\n",
       "    </tr>\n",
       "    <tr>\n",
       "      <th>88478</th>\n",
       "      <td>30SEP2020</td>\n",
       "      <td>WA</td>\n",
       "      <td>Wheat Belt</td>\n",
       "      <td>Visual Impairment</td>\n",
       "      <td>ALL</td>\n",
       "      <td>CapacityBuilding</td>\n",
       "      <td>NaN</td>\n",
       "      <td>11</td>\n",
       "    </tr>\n",
       "    <tr>\n",
       "      <th>88479</th>\n",
       "      <td>30SEP2020</td>\n",
       "      <td>WA</td>\n",
       "      <td>Wheat Belt</td>\n",
       "      <td>Visual Impairment</td>\n",
       "      <td>ALL</td>\n",
       "      <td>Capital</td>\n",
       "      <td>NaN</td>\n",
       "      <td>11</td>\n",
       "    </tr>\n",
       "    <tr>\n",
       "      <th>88480</th>\n",
       "      <td>30SEP2020</td>\n",
       "      <td>WA</td>\n",
       "      <td>Wheat Belt</td>\n",
       "      <td>Visual Impairment</td>\n",
       "      <td>ALL</td>\n",
       "      <td>Core</td>\n",
       "      <td>NaN</td>\n",
       "      <td>11</td>\n",
       "    </tr>\n",
       "  </tbody>\n",
       "</table>\n",
       "<p>53192 rows × 8 columns</p>\n",
       "</div>"
      ],
      "text/plain": [
       "          RprtDt StateCd SrvcDstrctNm        DsbltyGrpNm    AgeBnd  \\\n",
       "82761  30JUN2022      WA          ALL                ABI    0 to 6   \n",
       "82762  30JUN2022      WA          ALL                ABI    0 to 6   \n",
       "82763  30JUN2022      WA          ALL                ABI    0 to 6   \n",
       "82764  30JUN2022      WA          ALL                ABI    0 to 6   \n",
       "82765  30JUN2022      WA          ALL                ABI  15 to 18   \n",
       "...          ...     ...          ...                ...       ...   \n",
       "88476  30SEP2020      WA   Wheat Belt  Visual Impairment       65+   \n",
       "88477  30SEP2020      WA   Wheat Belt  Visual Impairment       ALL   \n",
       "88478  30SEP2020      WA   Wheat Belt  Visual Impairment       ALL   \n",
       "88479  30SEP2020      WA   Wheat Belt  Visual Impairment       ALL   \n",
       "88480  30SEP2020      WA   Wheat Belt  Visual Impairment       ALL   \n",
       "\n",
       "              SuppClass AvgAnlsdCmtdSuppBdgt PrtcpntCnt  \n",
       "82761               ALL           105,000.00         13  \n",
       "82762  CapacityBuilding            40,000.00         13  \n",
       "82763           Capital                  NaN        <11  \n",
       "82764              Core            53,000.00         11  \n",
       "82765               ALL            91,000.00         43  \n",
       "...                 ...                  ...        ...  \n",
       "88476              Core                  NaN         11  \n",
       "88477               ALL                  NaN         11  \n",
       "88478  CapacityBuilding                  NaN         11  \n",
       "88479           Capital                  NaN         11  \n",
       "88480              Core                  NaN         11  \n",
       "\n",
       "[53192 rows x 8 columns]"
      ]
     },
     "execution_count": 246,
     "metadata": {},
     "output_type": "execute_result"
    }
   ],
   "source": [
    "# Filter Longitudinal dataframe to WA only\n",
    "wa_long_part_df = long_df.loc[long_df.StateCd == \"WA\", :]\n",
    "wa_long_part_df"
   ]
  },
  {
   "cell_type": "code",
   "execution_count": 247,
   "metadata": {},
   "outputs": [],
   "source": [
    "# Transform wa_df to match wa_curr_part_df\n",
    "# Change column name\n",
    "wa_long_part_df = wa_long_part_df.rename(columns={'SuppClass':'SuppCatg'})\n",
    "\n",
    "# Change value for consistency\n",
    "wa_long_part_df[\"SuppCatg\"] = wa_long_part_df[\"SuppCatg\"].replace(\"CapacityBuilding\", \"Capacity Building\")"
   ]
  },
  {
   "cell_type": "code",
   "execution_count": 248,
   "metadata": {},
   "outputs": [],
   "source": [
    "# Add date to wa_curr_part_df\n",
    "# !!! Note if this process is used beyond December 2022, the date entered will need to be updated\n",
    "# eg. '31DEC2022', '31MAR2022', etc\n",
    "wa_curr_part_df[\"RprtDt\"] = '30SEP2022'\n",
    "\n",
    "# Append the current df to the longitudinal df\n",
    "wa_part_df = wa_curr_part_df.append(wa_long_part_df)\n",
    "\n",
    "# Drop the state code and annual support budget column\n",
    "wa_part_df.drop([\"StateCd\", \"AvgAnlsdCmtdSuppBdgt\"], axis=1, inplace=True)\n",
    "\n",
    "# In Participant Count replace '<11' with '5' (an integer approximation)\n",
    "wa_part_df[\"PrtcpntCnt\"] = wa_part_df[\"PrtcpntCnt\"].replace(\"<11\",\"5\", regex=True)"
   ]
  },
  {
   "cell_type": "code",
   "execution_count": 249,
   "metadata": {},
   "outputs": [
    {
     "name": "stdout",
     "output_type": "stream",
     "text": [
      "<class 'pandas.core.frame.DataFrame'>\n",
      "Int64Index: 60051 entries, 0 to 88480\n",
      "Data columns (total 6 columns):\n",
      " #   Column        Non-Null Count  Dtype \n",
      "---  ------        --------------  ----- \n",
      " 0   SrvcDstrctNm  60051 non-null  string\n",
      " 1   DsbltyGrpNm   60051 non-null  string\n",
      " 2   AgeBnd        60051 non-null  string\n",
      " 3   PrtcpntCnt    60051 non-null  int64 \n",
      " 4   SuppCatg      60051 non-null  string\n",
      " 5   RprtDt        60051 non-null  string\n",
      "dtypes: int64(1), string(5)\n",
      "memory usage: 3.2 MB\n"
     ]
    }
   ],
   "source": [
    "# Set data types\n",
    "wa_part_df = wa_part_df.astype({'SrvcDstrctNm': 'string',\n",
    "                                    'DsbltyGrpNm': 'string',\n",
    "                                    'AgeBnd': 'string',\n",
    "                                    'PrtcpntCnt': 'int64',\n",
    "                                    'SuppCatg': 'string',\n",
    "                                    'RprtDt': 'string'})\n",
    "\n",
    "wa_part_df.info()"
   ]
  },
  {
   "cell_type": "markdown",
   "metadata": {},
   "source": [
    "# Plan Utilisation Data"
   ]
  },
  {
   "cell_type": "markdown",
   "metadata": {},
   "source": [
    "### Extract"
   ]
  },
  {
   "cell_type": "code",
   "execution_count": 250,
   "metadata": {},
   "outputs": [
    {
     "data": {
      "text/html": [
       "<div>\n",
       "<style scoped>\n",
       "    .dataframe tbody tr th:only-of-type {\n",
       "        vertical-align: middle;\n",
       "    }\n",
       "\n",
       "    .dataframe tbody tr th {\n",
       "        vertical-align: top;\n",
       "    }\n",
       "\n",
       "    .dataframe thead th {\n",
       "        text-align: right;\n",
       "    }\n",
       "</style>\n",
       "<table border=\"1\" class=\"dataframe\">\n",
       "  <thead>\n",
       "    <tr style=\"text-align: right;\">\n",
       "      <th></th>\n",
       "      <th>StateCd</th>\n",
       "      <th>SrvcDstrctNm</th>\n",
       "      <th>DsbltyGrpNm</th>\n",
       "      <th>AgeBnd</th>\n",
       "      <th>SuppClass</th>\n",
       "      <th>TtlCmtd</th>\n",
       "      <th>Utlstn</th>\n",
       "      <th>PrtcpntCnt</th>\n",
       "      <th>PrvdrCnt</th>\n",
       "    </tr>\n",
       "  </thead>\n",
       "  <tbody>\n",
       "    <tr>\n",
       "      <th>0</th>\n",
       "      <td>WA</td>\n",
       "      <td>ALL</td>\n",
       "      <td>ABI</td>\n",
       "      <td>0 to 6</td>\n",
       "      <td>ALL</td>\n",
       "      <td>87,000.00</td>\n",
       "      <td>75%</td>\n",
       "      <td>12</td>\n",
       "      <td>47</td>\n",
       "    </tr>\n",
       "    <tr>\n",
       "      <th>1</th>\n",
       "      <td>WA</td>\n",
       "      <td>ALL</td>\n",
       "      <td>ABI</td>\n",
       "      <td>0 to 6</td>\n",
       "      <td>Capacity Building</td>\n",
       "      <td>45,000.00</td>\n",
       "      <td>66%</td>\n",
       "      <td>12</td>\n",
       "      <td>26</td>\n",
       "    </tr>\n",
       "    <tr>\n",
       "      <th>2</th>\n",
       "      <td>WA</td>\n",
       "      <td>ALL</td>\n",
       "      <td>ABI</td>\n",
       "      <td>15 to 18</td>\n",
       "      <td>ALL</td>\n",
       "      <td>95,000.00</td>\n",
       "      <td>84%</td>\n",
       "      <td>42</td>\n",
       "      <td>98</td>\n",
       "    </tr>\n",
       "    <tr>\n",
       "      <th>3</th>\n",
       "      <td>WA</td>\n",
       "      <td>ALL</td>\n",
       "      <td>ABI</td>\n",
       "      <td>15 to 18</td>\n",
       "      <td>Capacity Building</td>\n",
       "      <td>28,000.00</td>\n",
       "      <td>66%</td>\n",
       "      <td>42</td>\n",
       "      <td>64</td>\n",
       "    </tr>\n",
       "    <tr>\n",
       "      <th>4</th>\n",
       "      <td>WA</td>\n",
       "      <td>ALL</td>\n",
       "      <td>ABI</td>\n",
       "      <td>15 to 18</td>\n",
       "      <td>Capital</td>\n",
       "      <td>18,000.00</td>\n",
       "      <td>40%</td>\n",
       "      <td>20</td>\n",
       "      <td>22</td>\n",
       "    </tr>\n",
       "  </tbody>\n",
       "</table>\n",
       "</div>"
      ],
      "text/plain": [
       "  StateCd SrvcDstrctNm DsbltyGrpNm    AgeBnd          SuppClass    TtlCmtd  \\\n",
       "0      WA          ALL         ABI    0 to 6                ALL  87,000.00   \n",
       "1      WA          ALL         ABI    0 to 6  Capacity Building  45,000.00   \n",
       "2      WA          ALL         ABI  15 to 18                ALL  95,000.00   \n",
       "3      WA          ALL         ABI  15 to 18  Capacity Building  28,000.00   \n",
       "4      WA          ALL         ABI  15 to 18            Capital  18,000.00   \n",
       "\n",
       "  Utlstn  PrtcpntCnt  PrvdrCnt  \n",
       "0    75%          12        47  \n",
       "1    66%          12        26  \n",
       "2    84%          42        98  \n",
       "3    66%          42        64  \n",
       "4    40%          20        22  "
      ]
     },
     "execution_count": 250,
     "metadata": {},
     "output_type": "execute_result"
    }
   ],
   "source": [
    "# File paths to datasets\n",
    "## Current ##\n",
    "# Current dataset obtained at https://data.ndis.gov.au/explore-data, filter States/Territories = WA\n",
    "# File name contains today's date\n",
    "today = datetime.today().strftime('%Y-%m-%d')\n",
    "filename = f\"data-export-utilisation-plan-budget-{today}.csv\"\n",
    "util = f\"resources/{filename}\"\n",
    "wa_curr_util_df = pd.read_csv(util)\n",
    "wa_curr_util_df.head()"
   ]
  },
  {
   "cell_type": "code",
   "execution_count": 251,
   "metadata": {},
   "outputs": [],
   "source": [
    "## Longitudinal data\n",
    "# Longitudinal data obtained at https://data.ndis.gov.au/data-downloads, under subheading 'Budget data downloads (September 2020 to June 2022)'\n",
    "# !!! Note if this process is used beyond December 2022, additional longitudinal datasets will need to be added here manually\n",
    "# eg. sep22, dec22, etc\n",
    "jun22_df = pd.read_csv(\"resources/PB Utilisation of plan budgets data JUN22.csv\")\n",
    "mar22_df = pd.read_csv(\"resources/PB Utilisation CSV MAR22_CSV.csv\")\n",
    "dec21_df = pd.read_csv(\"resources/PB Utilisation of Plan Budgets_DEC21_CSV.csv\")\n",
    "sep21_df = pd.read_csv(\"resources/PB Utilisation of Plan Budgets Sep21 CSV.csv\")\n",
    "jun21_df = pd.read_csv(\"resources/PB Utilisation of Plan Budgets Jun 2021 CSV.csv\")\n",
    "mar21_df = pd.read_csv(\"resources/PB Utilisation of Plan Budgets Mar 2021.csv\")\n",
    "dec20_df = pd.read_csv(\"resources/PB Utilisation of Plan Budgets Dec 2020.csv\")\n",
    "sep20_df = pd.read_csv(\"resources/PB Utilisation of Plan Budgets Sep 2020 CSV.csv\")"
   ]
  },
  {
   "cell_type": "markdown",
   "metadata": {},
   "source": [
    "### Transform"
   ]
  },
  {
   "cell_type": "code",
   "execution_count": 252,
   "metadata": {},
   "outputs": [],
   "source": [
    "## Longitudinal data\n",
    "# Make Date column format consistent\n",
    "mar22_df.RprtDt = mar22_df.RprtDt.replace('31-Mar-22','31MAR2022')\n",
    "dec21_df.RprtDt = dec21_df.RprtDt.replace('31-Dec-21','31DEC2021')\n",
    "sep21_df.RprtDt = sep21_df.RprtDt.replace('30-Sep-21','30SEP2021')\n",
    "jun21_df.RprtDt = jun21_df.RprtDt.replace('30Jun2021','30JUN2021')"
   ]
  },
  {
   "cell_type": "code",
   "execution_count": 253,
   "metadata": {},
   "outputs": [],
   "source": [
    "# Make column headings consistent\n",
    "jun22_df = jun22_df.rename(columns={\"suppclass\":\"SuppClass\"})\n",
    "mar22_df = mar22_df.rename(columns={\"Suppclass\":\"SuppClass\"})"
   ]
  },
  {
   "cell_type": "code",
   "execution_count": 254,
   "metadata": {},
   "outputs": [],
   "source": [
    "# Append Longitudinal dataframes to a single dataframe\n",
    "long_list = [jun22_df,mar22_df,dec21_df,sep21_df,jun21_df,mar21_df,dec20_df,sep20_df]\n",
    "\n",
    "long_df = jun22_df\n",
    "for i in range(1,8):\n",
    "    long_df = long_df.append(long_list[i])"
   ]
  },
  {
   "cell_type": "code",
   "execution_count": 255,
   "metadata": {},
   "outputs": [],
   "source": [
    "# Filter Longitudinal dataframe to WA only and SIL/SDA = All\n",
    "wa_long_util_df = long_df.loc[(long_df.StateCd == \"WA\") &\n",
    "                                (long_df.SILorSDA == \"ALL\"), :]"
   ]
  },
  {
   "cell_type": "code",
   "execution_count": 256,
   "metadata": {},
   "outputs": [],
   "source": [
    "# Add date to wa_curr_part_df\n",
    "# !!! Note if this process is used beyond December 2022, the date entered will need to be updated\n",
    "# eg. '31DEC2022', '31MAR2022', etc\n",
    "wa_curr_util_df[\"RprtDt\"] = '30SEP2022'\n",
    "\n",
    "# Append the current df to the longitudinal df\n",
    "wa_util_df = wa_curr_util_df.append(wa_long_util_df)\n",
    "\n",
    "# Drop the state code and other unnecessary columns\n",
    "wa_util_df.drop([\"StateCd\",\"PrtcpntCnt\",\"TtlCmtd\"], axis=1, inplace=True)\n",
    "\n",
    "# Rename column for consistency\n",
    "wa_util_df = wa_util_df.rename(columns={\"SuppClass\":\"SuppCatg\"})\n",
    "\n",
    "# Drop rows with missing data\n",
    "wa_util_df = wa_util_df[wa_util_df[\"SuppCatg\"] != \"Missing\"]"
   ]
  },
  {
   "cell_type": "code",
   "execution_count": 257,
   "metadata": {},
   "outputs": [
    {
     "name": "stdout",
     "output_type": "stream",
     "text": [
      "<class 'pandas.core.frame.DataFrame'>\n",
      "Int64Index: 34408 entries, 0 to 115326\n",
      "Data columns (total 8 columns):\n",
      " #   Column        Non-Null Count  Dtype  \n",
      "---  ------        --------------  -----  \n",
      " 0   SrvcDstrctNm  34408 non-null  string \n",
      " 1   DsbltyGrpNm   34408 non-null  string \n",
      " 2   AgeBnd        34408 non-null  string \n",
      " 3   SuppCatg      34408 non-null  string \n",
      " 4   Utlstn        34408 non-null  int64  \n",
      " 5   PrvdrCnt      3972 non-null   float64\n",
      " 6   RprtDt        34408 non-null  string \n",
      " 7   SILorSDA      30436 non-null  object \n",
      "dtypes: float64(1), int64(1), object(1), string(5)\n",
      "memory usage: 2.4+ MB\n"
     ]
    }
   ],
   "source": [
    "# Clean punctuation\n",
    "wa_util_df[\"Utlstn\"] = wa_util_df[\"Utlstn\"].replace(\"%\",\"\", regex=True)\n",
    "\n",
    "# Set data types\n",
    "wa_util_df = wa_util_df.astype({'SrvcDstrctNm': 'string',\n",
    "                                    'DsbltyGrpNm': 'string',\n",
    "                                    'AgeBnd': 'string',\n",
    "                                    'SuppCatg': 'string',\n",
    "                                    'RprtDt': 'string',\n",
    "                                    'Utlstn': 'int64'\n",
    "                                    })\n",
    "\n",
    "wa_util_df.info()"
   ]
  },
  {
   "cell_type": "markdown",
   "metadata": {},
   "source": [
    "# Composite Key"
   ]
  },
  {
   "cell_type": "code",
   "execution_count": 258,
   "metadata": {},
   "outputs": [],
   "source": [
    "# Create a table that generates a composite key from the following columns:\n",
    "# SrvcDstrctNm\tDsbltyGrpNm\tAgeBnd\tSuppCatg\tRprtDt\n",
    "# This key will allow the participant dataframe and utilisation dataframes to be joined (in a RDBMS)\n",
    "# !!! Note if this process is used beyond December 2022, add additional values to *end* of the date list\n",
    "# eg '31DEC2022', '31MAR2023', etc\n",
    "\n",
    "dates = ['30SEP2020', '31DEC2020', '31MAR2021', '30JUN2021', '30SEP2021', '31DEC2021', '31MAR2022',\n",
    " '30JUN2022', '30SEP2022']\n",
    "districts = wa_part_df.SrvcDstrctNm.unique()\n",
    "disability_groups = wa_part_df.DsbltyGrpNm.unique()\n",
    "age_bands = wa_part_df.AgeBnd.unique()\n",
    "support_types = wa_part_df.SuppCatg.unique()\n",
    "\n",
    "key_categories = []\n",
    "\n",
    "for date in dates:\n",
    "    for district in districts:\n",
    "        for disability_group in disability_groups:\n",
    "            for age_band in age_bands:\n",
    "                for support_type in support_types:\n",
    "                    key_categories.append((date,district,disability_group,age_band,support_type))\n"
   ]
  },
  {
   "cell_type": "code",
   "execution_count": 259,
   "metadata": {},
   "outputs": [
    {
     "name": "stdout",
     "output_type": "stream",
     "text": [
      "<class 'pandas.core.frame.DataFrame'>\n",
      "RangeIndex: 91800 entries, 0 to 91799\n",
      "Data columns (total 2 columns):\n",
      " #   Column       Non-Null Count  Dtype \n",
      "---  ------       --------------  ----- \n",
      " 0   Key          91800 non-null  int64 \n",
      " 1   concatenate  91800 non-null  object\n",
      "dtypes: int64(1), object(1)\n",
      "memory usage: 1.4+ MB\n"
     ]
    }
   ],
   "source": [
    "# Create key dataframe\n",
    "key_df = pd.DataFrame(key_categories)\n",
    "key_df[\"concatenate\"] = key_df[[0,1,2,3,4]].apply(\"-\".join, axis=1)\n",
    "key_df[\"Key\"] = key_df.index + 1\n",
    "key_df = key_df[[\"Key\", \"concatenate\"]]\n",
    "key_df.info()"
   ]
  },
  {
   "cell_type": "code",
   "execution_count": 260,
   "metadata": {},
   "outputs": [
    {
     "name": "stdout",
     "output_type": "stream",
     "text": [
      "<class 'pandas.core.frame.DataFrame'>\n",
      "Int64Index: 60051 entries, 0 to 88480\n",
      "Data columns (total 7 columns):\n",
      " #   Column        Non-Null Count  Dtype \n",
      "---  ------        --------------  ----- \n",
      " 0   SrvcDstrctNm  60051 non-null  string\n",
      " 1   DsbltyGrpNm   60051 non-null  string\n",
      " 2   AgeBnd        60051 non-null  string\n",
      " 3   PrtcpntCnt    60051 non-null  int64 \n",
      " 4   SuppCatg      60051 non-null  string\n",
      " 5   RprtDt        60051 non-null  string\n",
      " 6   concatenate   60051 non-null  object\n",
      "dtypes: int64(1), object(1), string(5)\n",
      "memory usage: 3.7+ MB\n"
     ]
    }
   ],
   "source": [
    "# Add concatenate column to wa_part_df and wa_util_df\n",
    "wa_part_df[\"concatenate\"] = wa_part_df[[\"RprtDt\",\"SrvcDstrctNm\",\"DsbltyGrpNm\",\"AgeBnd\",\"SuppCatg\"]].apply(\"-\".join, axis=1)\n",
    "wa_util_df[\"concatenate\"] = wa_util_df[[\"RprtDt\",\"SrvcDstrctNm\",\"DsbltyGrpNm\",\"AgeBnd\",\"SuppCatg\"]].apply(\"-\".join, axis=1)\n",
    "\n",
    "wa_part_df.info()"
   ]
  },
  {
   "cell_type": "code",
   "execution_count": 261,
   "metadata": {},
   "outputs": [],
   "source": [
    "# Merge wa_part_df and wa_util_df to key_df on concatenate column\n",
    "wa_part_df = pd.merge(wa_part_df, key_df, on=\"concatenate\", how=\"left\")\n",
    "wa_util_df = pd.merge(wa_util_df, key_df, on=\"concatenate\", how=\"left\")"
   ]
  },
  {
   "cell_type": "code",
   "execution_count": 262,
   "metadata": {},
   "outputs": [],
   "source": [
    "# Drop concatenate column and change column order\n",
    "wa_part_df = wa_part_df[[\"Key\",\"RprtDt\",\"SrvcDstrctNm\",\"DsbltyGrpNm\",\"AgeBnd\",\"SuppCatg\",\"PrtcpntCnt\"]]\n",
    "wa_util_df = wa_util_df[[\"Key\",\"RprtDt\",\"SrvcDstrctNm\",\"DsbltyGrpNm\",\"AgeBnd\",\"SuppCatg\",\"Utlstn\",\"PrvdrCnt\"]]"
   ]
  },
  {
   "cell_type": "markdown",
   "metadata": {},
   "source": [
    "# Load"
   ]
  },
  {
   "cell_type": "code",
   "execution_count": 263,
   "metadata": {},
   "outputs": [],
   "source": [
    "# Export dataframes to CSV\n",
    "wa_part_df.to_csv('output/participant_data.csv', index=False)\n",
    "wa_util_df.to_csv('output/plan_utlisation_data.csv', index=False)\n",
    "\n",
    "# The remainder of the load component for this project is performed in pgAdmin4 (or an equivalent SQL management tool)\n",
    "# See the ReadMe for more details"
   ]
  }
 ],
 "metadata": {
  "kernelspec": {
   "display_name": "Python 3.7.7 ('PythonData')",
   "language": "python",
   "name": "python3"
  },
  "language_info": {
   "codemirror_mode": {
    "name": "ipython",
    "version": 3
   },
   "file_extension": ".py",
   "mimetype": "text/x-python",
   "name": "python",
   "nbconvert_exporter": "python",
   "pygments_lexer": "ipython3",
   "version": "3.7.7"
  },
  "orig_nbformat": 4,
  "vscode": {
   "interpreter": {
    "hash": "5ab4271f17fb678f92d8863922ba38472c07151a138a8513aae8a62841bcc2ec"
   }
  }
 },
 "nbformat": 4,
 "nbformat_minor": 2
}
